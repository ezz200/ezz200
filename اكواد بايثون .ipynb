{
 "cells": [
  {
   "cell_type": "code",
   "execution_count": null,
   "id": "0af983f8",
   "metadata": {},
   "outputs": [
    {
     "name": "stdout",
     "output_type": "stream",
     "text": [
      "ezz\n"
     ]
    }
   ],
   "source": [
    "print('ezz')"
   ]
  },
  {
   "cell_type": "code",
   "execution_count": null,
   "id": "03b50476",
   "metadata": {},
   "outputs": [
    {
     "name": "stdout",
     "output_type": "stream",
     "text": [
      "10\n"
     ]
    }
   ],
   "source": [
    "print(10)"
   ]
  },
  {
   "cell_type": "code",
   "execution_count": null,
   "id": "97cdf15a",
   "metadata": {},
   "outputs": [
    {
     "name": "stdout",
     "output_type": "stream",
     "text": [
      "ezzafify\n"
     ]
    }
   ],
   "source": [
    "print('ezz',end='')#هنا مش هيعمل مسافه\n",
    "print('afify')"
   ]
  },
  {
   "cell_type": "code",
   "execution_count": null,
   "id": "6a26070d",
   "metadata": {},
   "outputs": [
    {
     "name": "stdout",
     "output_type": "stream",
     "text": [
      "ezz   afify\n"
     ]
    }
   ],
   "source": [
    "print('ezz',end='   ')#هنا هيعمل مسافه بين الكلمتين\n",
    "print('afify')"
   ]
  },
  {
   "cell_type": "code",
   "execution_count": null,
   "id": "6aec34b3",
   "metadata": {},
   "outputs": [
    {
     "name": "stdout",
     "output_type": "stream",
     "text": [
      "(3+5j)\n"
     ]
    }
   ],
   "source": [
    "print(3+5j)"
   ]
  },
  {
   "cell_type": "code",
   "execution_count": null,
   "id": "7410390c",
   "metadata": {},
   "outputs": [
    {
     "name": "stdout",
     "output_type": "stream",
     "text": [
      "10\n"
     ]
    }
   ],
   "source": [
    "x=10\n",
    "if x==10: #هنا لازم اتنين يساوي علشان يطبع\n",
    "     print(10)\n",
    "else:\n",
    "     print(4) "
   ]
  },
  {
   "cell_type": "code",
   "execution_count": null,
   "id": "b50fe647",
   "metadata": {},
   "outputs": [
    {
     "name": "stdout",
     "output_type": "stream",
     "text": [
      "10\n"
     ]
    }
   ],
   "source": [
    "x=10\n",
    "print(x)"
   ]
  },
  {
   "cell_type": "code",
   "execution_count": null,
   "id": "2f0a07c3",
   "metadata": {},
   "outputs": [
    {
     "name": "stdout",
     "output_type": "stream",
     "text": [
      "4\n"
     ]
    }
   ],
   "source": [
    "a=int(4.5)\n",
    "print(a)"
   ]
  },
  {
   "cell_type": "code",
   "execution_count": null,
   "id": "a3b996a5",
   "metadata": {},
   "outputs": [
    {
     "name": "stdout",
     "output_type": "stream",
     "text": [
      "1.4\n"
     ]
    }
   ],
   "source": [
    "v=float(1.4)\n",
    "print(v)"
   ]
  },
  {
   "cell_type": "code",
   "execution_count": null,
   "id": "d8b81969",
   "metadata": {},
   "outputs": [
    {
     "name": "stdout",
     "output_type": "stream",
     "text": [
      "10\n"
     ]
    }
   ],
   "source": [
    "x=10.76\n",
    "print(int(x))\n",
    "#1=544#هنا بقا مينفعشي اسجل برقم اي حاجه\n",
    "#print(1)"
   ]
  },
  {
   "cell_type": "code",
   "execution_count": null,
   "id": "50ec8377",
   "metadata": {},
   "outputs": [
    {
     "name": "stdout",
     "output_type": "stream",
     "text": [
      "5\n"
     ]
    }
   ],
   "source": [
    "x=2\n",
    "x=3\n",
    "x=5\n",
    "print(x)#هنا بقا بياخد اخر X"
   ]
  },
  {
   "cell_type": "code",
   "execution_count": null,
   "id": "694a62d9",
   "metadata": {},
   "outputs": [
    {
     "name": "stdout",
     "output_type": "stream",
     "text": [
      "False\n",
      "True\n"
     ]
    }
   ],
   "source": [
    "x=0\n",
    "print(bool(x))\n",
    "print(bool(7))#اي حاجه ب بصفر =FALSE"
   ]
  },
  {
   "cell_type": "code",
   "execution_count": null,
   "id": "686ceb2e",
   "metadata": {},
   "outputs": [
    {
     "name": "stdout",
     "output_type": "stream",
     "text": [
      "6\n"
     ]
    }
   ],
   "source": [
    "a=b=c=6\n",
    "print(a)"
   ]
  },
  {
   "cell_type": "code",
   "execution_count": null,
   "id": "701378cf",
   "metadata": {},
   "outputs": [
    {
     "name": "stdout",
     "output_type": "stream",
     "text": [
      "2\n"
     ]
    }
   ],
   "source": [
    "a,b,c=1,2,3 #هنا بيشتغل بالترتيب\n",
    "print(b)"
   ]
  },
  {
   "cell_type": "code",
   "execution_count": null,
   "id": "10b0eeca",
   "metadata": {},
   "outputs": [
    {
     "name": "stdout",
     "output_type": "stream",
     "text": [
      "(10+2j)\n"
     ]
    }
   ],
   "source": [
    "print(complex(10,2))#هنا عرف التانيه الا complex"
   ]
  },
  {
   "cell_type": "code",
   "execution_count": null,
   "id": "a11d77f5",
   "metadata": {},
   "outputs": [
    {
     "name": "stdout",
     "output_type": "stream",
     "text": [
      "ezzmohamed\n"
     ]
    }
   ],
   "source": [
    "str='ezzmohamed'\n",
    "print(str)"
   ]
  },
  {
   "cell_type": "code",
   "execution_count": null,
   "id": "54282cac",
   "metadata": {},
   "outputs": [
    {
     "name": "stdout",
     "output_type": "stream",
     "text": [
      "y\n"
     ]
    }
   ],
   "source": [
    "e='ezzafify'\n",
    "e[7] #هنا بيبدا من الصفر \n",
    "print(e[7])"
   ]
  },
  {
   "cell_type": "code",
   "execution_count": null,
   "id": "681104aa",
   "metadata": {},
   "outputs": [
    {
     "name": "stdout",
     "output_type": "stream",
     "text": [
      "z\n"
     ]
    }
   ],
   "source": [
    "r='ezz'\n",
    "r[-1] #هنا هيطبع اول حرف شمال لان ال-1 بيبدا من النهايه\n",
    "print(r[-1])"
   ]
  },
  {
   "cell_type": "code",
   "execution_count": null,
   "id": "b694ee0d",
   "metadata": {},
   "outputs": [
    {
     "name": "stdout",
     "output_type": "stream",
     "text": [
      "ezzmohamed\n"
     ]
    }
   ],
   "source": [
    "#عاوز احدد الاسم كله واطبعه اعمل اي \n",
    "t='ezzmohamed'\n",
    "t[0:10] # هنا طبع الاسم كله علشان انا عملت ده\n",
    "print(t[0:10])"
   ]
  },
  {
   "cell_type": "code",
   "execution_count": null,
   "id": "762c2f66",
   "metadata": {},
   "outputs": [
    {
     "name": "stdout",
     "output_type": "stream",
     "text": [
      "alaa\n"
     ]
    }
   ],
   "source": [
    "#فيه طريقه تانيه بس انا بقوله هنا ابدا من البدايه \n",
    "p='alaa'\n",
    "p[:4] #هنا بقوله ابدا من البدايه\n",
    "print(p[:4])"
   ]
  },
  {
   "cell_type": "code",
   "execution_count": null,
   "id": "ec535c03",
   "metadata": {},
   "outputs": [
    {
     "name": "stdout",
     "output_type": "stream",
     "text": [
      "amdzmhmd\n"
     ]
    }
   ],
   "source": [
    "u='ahmedezzmohamed'\n",
    "u[0:15:2] #هنا الindex 3 يبقي نطلع 2 \n",
    "print(u[0:15:2])\n",
    "#هنا بشيل الحرف الا مش عاوزه"
   ]
  },
  {
   "cell_type": "code",
   "execution_count": null,
   "id": "f6a05a4e",
   "metadata": {},
   "outputs": [
    {
     "name": "stdout",
     "output_type": "stream",
     "text": [
      "eee\n"
     ]
    }
   ],
   "source": [
    "#شكل الstep بطريقه تانيه\n",
    "r='ezzezzezz'\n",
    "r[::3] #هنا بقوله ابدا من الاول الي الاخر والstep=4\n",
    "print(r[::3])"
   ]
  },
  {
   "cell_type": "code",
   "execution_count": null,
   "id": "862a8e2c",
   "metadata": {},
   "outputs": [
    {
     "name": "stdout",
     "output_type": "stream",
     "text": [
      "97531\n"
     ]
    }
   ],
   "source": [
    "o='123456789'\n",
    "o[::-2] #هنا هيبدا من -1 والstep=-1\n",
    "print(o[::-2])"
   ]
  },
  {
   "cell_type": "code",
   "execution_count": null,
   "id": "7f0eb0d4",
   "metadata": {},
   "outputs": [
    {
     "name": "stdout",
     "output_type": "stream",
     "text": [
      "yimz\n"
     ]
    }
   ],
   "source": [
    "o='ezzmohamedaliafify'\n",
    "o[-1:-18:-5] #هنا بشتغل عادي بس من العكس \n",
    "print(o[-1:-18:-5])"
   ]
  },
  {
   "cell_type": "code",
   "execution_count": null,
   "id": "995b0f3c",
   "metadata": {},
   "outputs": [
    {
     "name": "stdout",
     "output_type": "stream",
     "text": [
      "ezzafify\n",
      "ezzezz\n"
     ]
    }
   ],
   "source": [
    "a='ezz'\n",
    "b='afify'\n",
    "print(a+b)\n",
    "print(a*2)"
   ]
  },
  {
   "cell_type": "code",
   "execution_count": null,
   "id": "f9455b2a",
   "metadata": {},
   "outputs": [
    {
     "name": "stdout",
     "output_type": "stream",
     "text": [
      "EZZ\n"
     ]
    }
   ],
   "source": [
    "x='ezz'\n",
    "print(x.upper()) #بيخلي الحروف كبيره"
   ]
  },
  {
   "cell_type": "code",
   "execution_count": null,
   "id": "7395ced0",
   "metadata": {},
   "outputs": [
    {
     "name": "stdout",
     "output_type": "stream",
     "text": [
      "ezz\n"
     ]
    }
   ],
   "source": [
    "y='EZZ'\n",
    "print(y.lower()) #بيخلي الحروف صغيره"
   ]
  },
  {
   "cell_type": "code",
   "execution_count": null,
   "id": "d53444f9",
   "metadata": {},
   "outputs": [
    {
     "name": "stdout",
     "output_type": "stream",
     "text": [
      "10\n"
     ]
    }
   ],
   "source": [
    "x='ezzaliafify'\n",
    "y=x.find('y')\n",
    "print(y)"
   ]
  },
  {
   "cell_type": "code",
   "execution_count": null,
   "id": "df30cb05",
   "metadata": {},
   "outputs": [
    {
     "name": "stdout",
     "output_type": "stream",
     "text": [
      "🩶🖤🩶🖤🩶🖤🩶🖤🩶🖤🩶🖤🩶🖤🩶🖤🩶🖤🩶🖤🩶🖤🩶🖤🩶🖤🩶🖤🩶🖤🩶🖤🩶🖤🩶🖤🩶🖤🩶🖤\n"
     ]
    }
   ],
   "source": [
    "print('🩶🖤'*20)#هنا لو عاوز اكرر حاجه كذا مره"
   ]
  },
  {
   "cell_type": "code",
   "execution_count": null,
   "id": "45cf8b03",
   "metadata": {},
   "outputs": [
    {
     "data": {
      "text/plain": [
       "'ezz'"
      ]
     },
     "execution_count": 68,
     "metadata": {},
     "output_type": "execute_result"
    }
   ],
   "source": [
    "input('name')\n"
   ]
  },
  {
   "cell_type": "code",
   "execution_count": null,
   "id": "680f321d",
   "metadata": {},
   "outputs": [
    {
     "name": "stdout",
     "output_type": "stream",
     "text": [
      "ezz10 afify20\n"
     ]
    }
   ],
   "source": [
    "print('ezz{} afify{}'.format(10,20)) #هنا بيخلي الارقام جنب الاسماء "
   ]
  },
  {
   "cell_type": "code",
   "execution_count": null,
   "id": "7a0b4f78",
   "metadata": {},
   "outputs": [
    {
     "name": "stdout",
     "output_type": "stream",
     "text": [
      "ezz'afify\n"
     ]
    }
   ],
   "source": [
    "\n",
    "print('ezz\\'afify') #هنا بيطبع الاتنين ججنب بعض وبينهم "
   ]
  },
  {
   "cell_type": "code",
   "execution_count": null,
   "id": "3d03445f",
   "metadata": {},
   "outputs": [
    {
     "name": "stdout",
     "output_type": "stream",
     "text": [
      "ezz\\afify\n"
     ]
    }
   ],
   "source": [
    "\n",
    "print('ezz\\\\afify') #|هنا بطبع \\بس بين الاسمين "
   ]
  },
  {
   "cell_type": "code",
   "execution_count": null,
   "id": "e833cb98",
   "metadata": {},
   "outputs": [
    {
     "name": "stdout",
     "output_type": "stream",
     "text": [
      "ezz\n",
      "afify\n"
     ]
    }
   ],
   "source": [
    "print('ezz\\nafify') #هنا الاسم الاول ف سطر والاسم التاني ف سطر تحت بعض لو مفيش مسافه"
   ]
  },
  {
   "cell_type": "code",
   "execution_count": null,
   "id": "28bfe862",
   "metadata": {},
   "outputs": [
    {
     "name": "stdout",
     "output_type": "stream",
     "text": [
      "ezz\tezz\n"
     ]
    }
   ],
   "source": [
    "print('ezz\\tezz')#هنا بيعمل مسافه بين الكلمتين "
   ]
  },
  {
   "cell_type": "code",
   "execution_count": null,
   "id": "82c43acf",
   "metadata": {},
   "outputs": [
    {
     "name": "stdout",
     "output_type": "stream",
     "text": [
      "ezez\n"
     ]
    }
   ],
   "source": [
    "print('ezz\\bez\\bz')#هنا بيمسح الحرف الا قبله"
   ]
  },
  {
   "cell_type": "code",
   "execution_count": null,
   "id": "006d52aa",
   "metadata": {},
   "outputs": [
    {
     "name": "stdout",
     "output_type": "stream",
     "text": [
      "15 5 50 2.0\n"
     ]
    }
   ],
   "source": [
    "x=10\n",
    "y=5\n",
    "print(x+y,x-y,x*y,x/y)#هنا عمليات الحسابيه"
   ]
  },
  {
   "cell_type": "code",
   "execution_count": null,
   "id": "1b55165b",
   "metadata": {},
   "outputs": [
    {
     "name": "stdout",
     "output_type": "stream",
     "text": [
      "no\n"
     ]
    }
   ],
   "source": [
    "x=10\n",
    "y=20\n",
    "if x>y  : # بقا نحط اي حاجه من دول <,>,=,>=,<=,!= \n",
    "          print('yes')\n",
    "else:\n",
    "          print('no') "
   ]
  },
  {
   "cell_type": "code",
   "execution_count": null,
   "id": "2aaaf30a",
   "metadata": {},
   "outputs": [
    {
     "name": "stdout",
     "output_type": "stream",
     "text": [
      "True\n",
      "True\n",
      "False\n"
     ]
    }
   ],
   "source": [
    "print(2==2 and 3==3)#هنا هيطبع صح لان الجانبين صح \n",
    "print(2==2 or 2==3) #هنا هيطبع صح ف حالة واحده بس الا صح\n",
    "print(not(2==2 and 4==4)) #هنا الجانبين صح بس علشان حاطط notهيعكس \n"
   ]
  },
  {
   "cell_type": "code",
   "execution_count": null,
   "id": "dd3cd4bc",
   "metadata": {},
   "outputs": [
    {
     "name": "stdout",
     "output_type": "stream",
     "text": [
      "hello\n"
     ]
    }
   ],
   "source": [
    "x=20\n",
    "if x<=20 :   #ده امر if لما يكون لوحده \n",
    "    print('hello')"
   ]
  },
  {
   "cell_type": "code",
   "execution_count": null,
   "id": "19cc6b15",
   "metadata": {},
   "outputs": [
    {
     "name": "stdout",
     "output_type": "stream",
     "text": [
      "false\n"
     ]
    }
   ],
   "source": [
    "x=10\n",
    "if x>10 :\n",
    "    print('ture')\n",
    "else:                    #هنا استخدمة if and else \n",
    "    print('false')"
   ]
  },
  {
   "cell_type": "code",
   "execution_count": null,
   "id": "2e1961f2",
   "metadata": {},
   "outputs": [
    {
     "name": "stdout",
     "output_type": "stream",
     "text": [
      "small\n"
     ]
    }
   ],
   "source": [
    "x=int(input('enter the number')) #هنا دخلت رقم من المستخدم\n",
    "if x<30:\n",
    "    print('small')\n",
    "elif x==30:            #هنا استخدمنا elif علشان عندي تلات احتمالات \n",
    "    print('good')\n",
    "else:\n",
    "    print('big')"
   ]
  },
  {
   "cell_type": "code",
   "execution_count": null,
   "id": "883b9f94",
   "metadata": {},
   "outputs": [
    {
     "name": "stdout",
     "output_type": "stream",
     "text": [
      "5\n"
     ]
    }
   ],
   "source": [
    "op=input('enter the op')\n",
    "x1=int(input('num1='))\n",
    "x2=int(input('num2=')) \n",
    "if op=='+':\n",
    "    print(x2+x1)\n",
    "elif op=='-':\n",
    "    print(x2-x1)\n",
    "elif op=='*':\n",
    "    print(x2*x1)\n",
    "else:\n",
    "    print(x2/x1)\n",
    " #نعمل هنا اله حاسبه"
   ]
  },
  {
   "cell_type": "code",
   "execution_count": null,
   "id": "5dcd3394",
   "metadata": {},
   "outputs": [
    {
     "name": "stdout",
     "output_type": "stream",
     "text": [
      "ture\n",
      "ture2\n",
      "ture and ture1\n"
     ]
    }
   ],
   "source": [
    "x=10\n",
    "if x==10:\n",
    "    print('ture') #هنا حاجه اسمها nested يعني كذا if جوه بعض \n",
    "    if x>=10:\n",
    "        print('ture2')\n",
    "        # ممكن نعمل ده بطريقه تانيه \n",
    "x=10\n",
    "if x==10 and x>=10 : #هنا حطيت الشرطين مع بعض ف كود\n",
    "    print('ture and ture1')"
   ]
  },
  {
   "cell_type": "code",
   "execution_count": null,
   "id": "6b10ab33",
   "metadata": {},
   "outputs": [
    {
     "name": "stdout",
     "output_type": "stream",
     "text": [
      "child\n"
     ]
    }
   ],
   "source": [
    "#هنا هنعمل سؤال عن الاعمار\n",
    "\"\"\"Problem 1: Age Categorization\n",
    "Write a function that categorizes people based on their age:\n",
    "\"Child\" if age is less than 13\n",
    "\"Teenager\" if age is between 13 and 19\n",
    "\"Adult\" if age is between 20 and 64\n",
    "\"Senior\" if age is 65 or older\"\"\"\n",
    "\n",
    "age=int(input('enter the age'))\n",
    "if age<13:\n",
    "    print('child')\n",
    "elif age>=13 and age<=19 :\n",
    "    print('Teenager')\n",
    "elif age>=20 and age<=64 :\n",
    "    print('Adult')\n",
    "else:\n",
    "    print('Senior')"
   ]
  },
  {
   "cell_type": "code",
   "execution_count": null,
   "id": "c6b63c7f",
   "metadata": {},
   "outputs": [
    {
     "name": "stdout",
     "output_type": "stream",
     "text": [
      "e\n",
      "z\n",
      "z\n"
     ]
    }
   ],
   "source": [
    "e='ezz'\n",
    "for i in e : #كده عندي loopالا هوا الاسم عدد الحروف \n",
    "    print( i) #الi عندي ده يعتبر العداد بتاعي هوا الا بيعد الحروف\n",
    "# i-counter  اي حرف غير الiعادي"
   ]
  },
  {
   "cell_type": "code",
   "execution_count": null,
   "id": "df5253c0",
   "metadata": {},
   "outputs": [
    {
     "name": "stdout",
     "output_type": "stream",
     "text": [
      "0\n",
      "1\n",
      "2\n",
      "loop finished\n"
     ]
    }
   ],
   "source": [
    "e='ezz'\n",
    "for u in range(len(e)) : #الطريقه ده بطبع الsequences علي نظام range من كذا الي كذا\n",
    "    print( u )\n",
    "print('loop finished') # هنا بيعرفني ان loop خلص"
   ]
  },
  {
   "cell_type": "code",
   "execution_count": null,
   "id": "d1ff4073",
   "metadata": {},
   "outputs": [
    {
     "name": "stdout",
     "output_type": "stream",
     "text": [
      "char:  0 is e\n",
      "char:  1 is z\n",
      "char:  2 is z\n"
     ]
    }
   ],
   "source": [
    "#طب انا لو عاوز يطبع الحرف والindex جنبه اعمل اي \n",
    "e='ezz'\n",
    "for a in range(len(e)):\n",
    "    print('char: ',a,'is' ,e[a]) #هنا عملت الحرف وجنبه الindex بتاعه"
   ]
  },
  {
   "cell_type": "code",
   "execution_count": null,
   "id": "e37bcc60",
   "metadata": {},
   "outputs": [
    {
     "name": "stdout",
     "output_type": "stream",
     "text": [
      "char:  e\n",
      "char:  z\n",
      "char:  z\n",
      "loop finished\n"
     ]
    }
   ],
   "source": [
    "# هنشتغل while loop بالطريقه بتاعتها بس نفس الoutput بتاع for\n",
    "e='ezz'\n",
    "u=0 # هنا بقوله البدايه من الصفر\n",
    "while u<len(e):\n",
    "    print('char: ' ,e[u] )\n",
    "    u+=1    #هنا بقوله زود واحد كل مره \n",
    "print('loop finished')"
   ]
  },
  {
   "cell_type": "code",
   "execution_count": 18,
   "id": "29b3e7ab",
   "metadata": {},
   "outputs": [
    {
     "name": "stdout",
     "output_type": "stream",
     "text": [
      "0\n",
      "1\n",
      "2\n"
     ]
    }
   ],
   "source": [
    "for i in range(5):\n",
    "    if i==3 :\n",
    "        break\n",
    "    print(i)\n"
   ]
  },
  {
   "cell_type": "code",
   "execution_count": 21,
   "id": "3c9093a3",
   "metadata": {},
   "outputs": [
    {
     "name": "stdout",
     "output_type": "stream",
     "text": [
      "5\n"
     ]
    }
   ],
   "source": [
    "#match case هنا هنعرف يعني اي \n",
    "#هنعمل اله حاسبه بواسطة الmatch case\n",
    "op=input('enter the op')\n",
    "x=int(input('enter the x='))\n",
    "y=int(input('enter the y='))\n",
    "match op:\n",
    "    case '+':\n",
    "        print(x+y)\n",
    "    case'-':\n",
    "        print(x-y)\n",
    "    case'*':\n",
    "        print(x*y)\n",
    "    case '/':\n",
    "        print(x/y)\n",
    "    case _ : #اخر واحده ده لو معنديش اي حاجه من الا فوق \n",
    "        print('I dont not have')"
   ]
  },
  {
   "cell_type": "code",
   "execution_count": 22,
   "id": "ae3c218e",
   "metadata": {},
   "outputs": [
    {
     "name": "stdout",
     "output_type": "stream",
     "text": [
      "alaa\n"
     ]
    }
   ],
   "source": [
    "#عاوز اعمل لسته \n",
    "e=['ezz',9,'ali','alaa']\n",
    "print(e[3]) #هنا كده عملت لستة وطبعت الا انا عاوزه"
   ]
  },
  {
   "cell_type": "code",
   "execution_count": 23,
   "id": "cb8a00bb",
   "metadata": {},
   "outputs": [
    {
     "name": "stdout",
     "output_type": "stream",
     "text": [
      "6\n",
      "3\n",
      "[3]\n",
      "[1, 2, 3, 4, 5]\n"
     ]
    }
   ],
   "source": [
    "#طب دلوقتي عاوز اعمل indexing and slicing\n",
    "A=[1,2,3,4,5,6]\n",
    "print(A[-1])\n",
    "print(A[2]) #دول بقا indexing\n",
    "print(A[2:3])\n",
    "print(A[:-1])#دول بقا ال slicing"
   ]
  },
  {
   "cell_type": "code",
   "execution_count": 24,
   "id": "f6fd14c4",
   "metadata": {},
   "outputs": [
    {
     "name": "stdout",
     "output_type": "stream",
     "text": [
      "[1, 2, 3]\n"
     ]
    }
   ],
   "source": [
    "#ممكن اشيل لسته داخل لسته\n",
    "x=[1,3,2,4,5,[1,2,3]]\n",
    "print(x[-1])"
   ]
  },
  {
   "cell_type": "code",
   "execution_count": 26,
   "id": "3f1a3908",
   "metadata": {},
   "outputs": [
    {
     "name": "stdout",
     "output_type": "stream",
     "text": [
      "8\n",
      "[1, 4]\n",
      "[[9, 8, 7], 5, 4, 3, 2, 1]\n"
     ]
    }
   ],
   "source": [
    "#ممكن اشتغل ع اللسته الا جوه اللسته \n",
    "y=[1,2,3,4,5,[9,8,7]]\n",
    "print(y[-1][1])\n",
    "print(y[::3]) #هنا بقوله من الاول للاخر بس index=3 \n",
    "print(y[::-1])#هيبدا من الاول للاخر بس من النهايه"
   ]
  },
  {
   "cell_type": "code",
   "execution_count": 27,
   "id": "d586ced1",
   "metadata": {},
   "outputs": [
    {
     "name": "stdout",
     "output_type": "stream",
     "text": [
      "5\n"
     ]
    }
   ],
   "source": [
    "#طريقه تانيه لتعريف لسته \n",
    "x=list([1,2,3,4,5,6,7])\n",
    "print(x[4])\n"
   ]
  },
  {
   "cell_type": "code",
   "execution_count": 28,
   "id": "b7c7bfe9",
   "metadata": {},
   "outputs": [
    {
     "name": "stdout",
     "output_type": "stream",
     "text": [
      "[1, 3, 4, 5, 6, 7, 8]\n",
      "[1, 2, 3, 4, 5, 6, 7]\n",
      "[1, 2, 3, 4, 5]\n"
     ]
    }
   ],
   "source": [
    "# هنا هنتكلم ع شوية خواص ف list\n",
    "#append,insert\n",
    "x=[1,3,4,5,6,7]\n",
    "x.append(8) #append بتضيف قيمه ف نهاية اللسته\n",
    "print(x)\n",
    "y=[1,3,4,5,6,7]\n",
    "y.insert(1,2) #insertبتضيف قيمه بس انا بحدد مكانها \n",
    "print(y)\n",
    "#insert تنفع بالسالب \n",
    "z=[1,2,3,5]\n",
    "z.insert(-1,4) #هنا مش بيقف عند السالب 1 بالظبط بينط بعده برقم\n",
    "print(z)"
   ]
  },
  {
   "cell_type": "code",
   "execution_count": 29,
   "id": "66174dc8",
   "metadata": {},
   "outputs": [
    {
     "name": "stdout",
     "output_type": "stream",
     "text": [
      "[1, 4, 6, 9, 7, 8]\n",
      "[1, 7, 3, 1, 4, 9]\n"
     ]
    }
   ],
   "source": [
    "#خواص ف الlist\n",
    "#remove  and  pop\n",
    "e=[1,3,4,6,9,7,8]\n",
    "e.remove(3) #هنا بتشيل القيمه الا جوه remove\n",
    "print(e)\n",
    "q=[1,7,45,3,1,4,9]\n",
    "q.pop(2)#هنا بتشيل المكان الا جوه pop\n",
    "print(q)"
   ]
  },
  {
   "cell_type": "code",
   "execution_count": 32,
   "id": "47ff0401",
   "metadata": {},
   "outputs": [
    {
     "name": "stdout",
     "output_type": "stream",
     "text": [
      "[1, 2, 3, 4, 5, 6, 7, 8, 9]\n",
      "[76, 54, 32, 5, 4, 4, 3, 2, 1, 0]\n",
      "[9, 8, 7, 6, 5, 4, 3, 2, 1]\n"
     ]
    }
   ],
   "source": [
    "#خواص ف الlist\n",
    "#sort and reverse\n",
    "p=[2,8,7,6,3,1,4,5,9]\n",
    "p.sort() #sortهنا عملت ترتيب ل list من الصغير للكبير \n",
    "print(p)\n",
    "#طب لو عاوز من الكبير للصغير\n",
    "u=[4,5,54,32,1,4,2,76,3,0]\n",
    "u.sort(reverse=True) #هنا عمل sort من الكبير الي الصغير \n",
    "print(u)\n",
    "s=[1,2,3,4,5,6,7,8,9]\n",
    "s.reverse()#reverse هنا عملت عكس ل list\n",
    "print(s)"
   ]
  },
  {
   "cell_type": "code",
   "execution_count": 33,
   "id": "9c847ddd",
   "metadata": {},
   "outputs": [
    {
     "data": {
      "text/plain": [
       "101"
      ]
     },
     "execution_count": 33,
     "metadata": {},
     "output_type": "execute_result"
    }
   ],
   "source": [
    "#طب انا عاوز اعرف رقم كل حرف ف بايثون كام اعمل اي \n",
    "ord('e')"
   ]
  },
  {
   "cell_type": "code",
   "execution_count": 34,
   "id": "8aa39b7b",
   "metadata": {},
   "outputs": [
    {
     "name": "stdout",
     "output_type": "stream",
     "text": [
      "[]\n",
      "6\n",
      "[1, 2, 3, 4, 5, 6]\n",
      "2\n",
      "[1, 2, 3, 4, 5, 6, 7, 8, 8, 7, 6, 5, 4, 3, 2, 1]\n"
     ]
    }
   ],
   "source": [
    "#list خواص ف ال\n",
    "# clear and count and copy and index and extend\n",
    "x=[1,2,3,4,5,6,7,8,90,0,4]\n",
    "x.clear() #clear هنا بتمسح الlist كلها \n",
    "print(x)\n",
    "#########################################################\n",
    "x=[1,2,34,21,2,1,1,2,3,4,56,7,4,111,1,1,1]\n",
    "x.count(1) # count هنا بتعدد الرقم متكرار كام مره \n",
    "print(x.count(1))\n",
    "#########################################################\n",
    "x=[1,2,3,4,5,6]\n",
    "x.copy()#copy بتاخد نسخه من الاسم وتطبعه\n",
    "print(x)\n",
    "###########################################################\n",
    "x=[1,2,3,4,5,6,7]\n",
    "x.index(3)#index هنا بتعمل اي بترجع الرقم الا انا كاتبه مكنه فين \n",
    "print(x.index(3))\n",
    "###########################################################\n",
    "x=[1,2,3,4,5,6,7,8]\n",
    "y=[8,7,6,5,4,3,2,1]\n",
    "x.extend(y)#extend هنا بتعمل اني بضيف list جوه list\n",
    "print(x)"
   ]
  },
  {
   "cell_type": "code",
   "execution_count": 35,
   "id": "c72f4017",
   "metadata": {},
   "outputs": [
    {
     "name": "stdout",
     "output_type": "stream",
     "text": [
      "2\n"
     ]
    }
   ],
   "source": [
    "#tuple شكل \n",
    "x=1,2,3#ينفع اعمل accessing عليه \n",
    "print(x[1])"
   ]
  },
  {
   "cell_type": "code",
   "execution_count": 37,
   "id": "e395851f",
   "metadata": {},
   "outputs": [
    {
     "name": "stdout",
     "output_type": "stream",
     "text": [
      "(1, 2, 3, 3, 4, 5)\n",
      "(1, 2, 3, 4, 5, 6)\n"
     ]
    }
   ],
   "source": [
    "#ممكن اعمل concatenation \n",
    "x=1,2,3\n",
    "y=3,4,5\n",
    "z=x+y\n",
    "print(z)\n",
    "q=tuple([1,2,3])\n",
    "w=tuple([4,5,6]) #بطريقه تانيه \n",
    "print(q+w)"
   ]
  },
  {
   "cell_type": "code",
   "execution_count": 40,
   "id": "cac00dc6",
   "metadata": {},
   "outputs": [
    {
     "name": "stdout",
     "output_type": "stream",
     "text": [
      "<class 'tuple'>\n"
     ]
    }
   ],
   "source": [
    "#معرفة الtuple\n",
    "x=1, #هنا tuple\n",
    "print(type(x))"
   ]
  },
  {
   "cell_type": "code",
   "execution_count": 41,
   "id": "eb6f3513",
   "metadata": {},
   "outputs": [
    {
     "name": "stdout",
     "output_type": "stream",
     "text": [
      "(1, 2)\n"
     ]
    }
   ],
   "source": [
    "#علشان اعدل ف الtuple لازم احوله ل list الاول وبعدين اعدل وبعدين احوله تاني الي tuple\n",
    "a=1,\n",
    "a=list(a)\n",
    "a.append(2)\n",
    "a=tuple(a)\n",
    "print(a)"
   ]
  },
  {
   "cell_type": "code",
   "execution_count": null,
   "id": "4aa68eb8",
   "metadata": {},
   "outputs": [
    {
     "name": "stdout",
     "output_type": "stream",
     "text": [
      "{1, 2, 3, 4, 5, 6}\n",
      "<class 'set'>\n",
      "{1, 2, 4, 5, 6, 10}\n",
      "{2, 3, 4, 5}\n"
     ]
    }
   ],
   "source": [
    "#معرفة set\n",
    "#طريقه 1\n",
    "my_set={1,2,3,4,5,6,6,6,6,6,6,6,6,6}\n",
    "print(my_set)#مش بتسمح بتكرار الارقام\n",
    "#لو عاوز اعرف set فاضيه \n",
    "x=set()# هنا عرفتها انها فاضيه \n",
    "print(type(x))\n"
   ]
  },
  {
   "cell_type": "code",
   "execution_count": 43,
   "id": "2fb038da",
   "metadata": {},
   "outputs": [
    {
     "name": "stdout",
     "output_type": "stream",
     "text": [
      "{1, 2, 4, 5, 6, 10}\n",
      "{2, 3, 4, 5}\n"
     ]
    }
   ],
   "source": [
    "#خواص set\n",
    "#add and remove\n",
    "my_set={1,2,4,5,6}\n",
    "my_set.add(10)#هنا بعمل اضافه \n",
    "print(my_set)\n",
    "x={1,2,3,4,5}\n",
    "x.remove(1)#هنا مسحت عنصر\n",
    "print(x)"
   ]
  },
  {
   "cell_type": "code",
   "execution_count": 44,
   "id": "e580a9d8",
   "metadata": {},
   "outputs": [
    {
     "name": "stdout",
     "output_type": "stream",
     "text": [
      "{1, 2, 3, 4, 5, 6, 8}\n",
      "{3, 4, 5}\n",
      "{1, 2, 3}\n",
      "{6}\n",
      "{1, 2}\n",
      "{1, 2, 3, 4, 5, 7, 8, 9}\n",
      "{1, 2, 3, 4, 5, 7, 8, 9, 10}\n"
     ]
    }
   ],
   "source": [
    "#خواص الset\n",
    "#union and intersection and difference\n",
    "set1={1,2,3,4,5}\n",
    "set2={2,6,8,3,1}\n",
    "print(set1|set2) #هنا بتحط الاتنين مع بعض مع اختلاف طبعا\n",
    "######################\n",
    "set3={1,2,3,4,5}\n",
    "set4={3,4,5,6}\n",
    "print(set3&set4)# هنا بيطلع التقاطع بينهم \n",
    "#######################\n",
    "set5={1,2,3,4,5}\n",
    "set6={4,5,6,7}\n",
    "print(set5-set6) #معني الكلام اي الا موجود ف 1 ومش موجود ف 2\n",
    "########################\n",
    "x1={1,2,3,4,5,6}\n",
    "x2={6,7,8,9}\n",
    "x1.intersection_update(x2) #هنا بعمل اي بجيب التقاطع بينهم واطبع x1 يطلع التقاطع الجديد\n",
    "print(x1)\n",
    "##########################\n",
    "x1={1,2,3,4,5,6}\n",
    "x2={3,4,5,6,7}\n",
    "x1.difference_update(x2)#هنا بردوا نفس الكلام بجيب الفرق واخزينه ف x1\n",
    "print(x1)\n",
    "######################################################################\n",
    "x1={1,2,3,4,5,6,7,8,9}\n",
    "x1.remove(6)#هنا بتمسح العنصر\\لو العنصر مش موجود هتطلع ايرو\n",
    "print(x1)\n",
    "##############################\n",
    "x={1,2,3,4,5,7,8,9,10}\n",
    "x.discard(x)#هنا بقا بتمسح الرقم لو موجود\\لو العنصر مش موجود يطبع ال لسته زي ما هي \n",
    "print(x)"
   ]
  },
  {
   "cell_type": "code",
   "execution_count": 45,
   "id": "bd3658e6",
   "metadata": {},
   "outputs": [
    {
     "data": {
      "text/plain": [
       "[0, 1, 2, 3, 4, 5, 6, 7, 8, 9]"
      ]
     },
     "execution_count": 45,
     "metadata": {},
     "output_type": "execute_result"
    }
   ],
   "source": [
    "list(range(10))"
   ]
  },
  {
   "cell_type": "code",
   "execution_count": 46,
   "id": "5566e29f",
   "metadata": {},
   "outputs": [
    {
     "data": {
      "text/plain": [
       "[0, 1, 2, 3, 4, 5, 6, 7, 8, 9]"
      ]
     },
     "execution_count": 46,
     "metadata": {},
     "output_type": "execute_result"
    }
   ],
   "source": [
    "list(range(0,10))"
   ]
  },
  {
   "cell_type": "code",
   "execution_count": 47,
   "id": "1aad82d8",
   "metadata": {},
   "outputs": [
    {
     "data": {
      "text/plain": [
       "[0, 3, 6, 9]"
      ]
     },
     "execution_count": 47,
     "metadata": {},
     "output_type": "execute_result"
    }
   ],
   "source": [
    "list(range(0,10,3))"
   ]
  },
  {
   "cell_type": "code",
   "execution_count": 48,
   "id": "5006cf2b",
   "metadata": {},
   "outputs": [
    {
     "data": {
      "text/plain": [
       "[10, 7, 4]"
      ]
     },
     "execution_count": 48,
     "metadata": {},
     "output_type": "execute_result"
    }
   ],
   "source": [
    "list(range(10,1,-3))"
   ]
  },
  {
   "cell_type": "code",
   "execution_count": 49,
   "id": "6fac6650",
   "metadata": {},
   "outputs": [
    {
     "name": "stdout",
     "output_type": "stream",
     "text": [
      "0\n",
      "1\n",
      "2\n",
      "4\n"
     ]
    }
   ],
   "source": [
    "for i in range(5):\n",
    "    if i==3 :\n",
    "        continue\n",
    "    print(i)"
   ]
  },
  {
   "cell_type": "code",
   "execution_count": null,
   "id": "89bc4a44",
   "metadata": {},
   "outputs": [
    {
     "name": "stdout",
     "output_type": "stream",
     "text": [
      "welcome to multblication table\n",
      "multiplication table for 5\n",
      "5 * 0 = 0\n",
      "5 * 1 = 5\n",
      "5 * 2 = 10\n",
      "5 * 3 = 15\n",
      "5 * 4 = 20\n",
      "5 * 5 = 25\n",
      "5 * 6 = 30\n",
      "5 * 7 = 35\n",
      "5 * 8 = 40\n",
      "5 * 9 = 45\n",
      "5 * 10 = 50\n"
     ]
    }
   ],
   "source": [
    "print(\"welcome to multblication table\")\n",
    "x=int(input(\"Enter the number:\"))\n",
    "print(\"multiplication table for\",x)\n",
    "for r in range(11):\n",
    "    s=x * r\n",
    "    print( x,\"*\",  r,\"=\",s)\n",
    "    #جدول ضرب"
   ]
  },
  {
   "cell_type": "code",
   "execution_count": 51,
   "id": "624fe8f2",
   "metadata": {},
   "outputs": [
    {
     "data": {
      "text/plain": [
       "2200"
      ]
     },
     "execution_count": 51,
     "metadata": {},
     "output_type": "execute_result"
    }
   ],
   "source": [
    "def retfun(salary):\n",
    "    return salary+200\n",
    "retfun(1000)\n",
    "retfun(2000)\n",
    "#هنا بتاخد اخر واحده return"
   ]
  },
  {
   "cell_type": "code",
   "execution_count": 52,
   "id": "95d2fec4",
   "metadata": {},
   "outputs": [
    {
     "name": "stdout",
     "output_type": "stream",
     "text": [
      "2200\n"
     ]
    },
    {
     "data": {
      "text/plain": [
       "1200"
      ]
     },
     "execution_count": 52,
     "metadata": {},
     "output_type": "execute_result"
    }
   ],
   "source": [
    "def x(salary):\n",
    "    return salary+200\n",
    "print(x(2000))\n",
    "x(1000)"
   ]
  },
  {
   "cell_type": "code",
   "execution_count": 53,
   "id": "d4daab1d",
   "metadata": {},
   "outputs": [
    {
     "data": {
      "text/plain": [
       "15"
      ]
     },
     "execution_count": 53,
     "metadata": {},
     "output_type": "execute_result"
    }
   ],
   "source": [
    "def sum(x,y):\n",
    "    return x+y \n",
    "sum(9,6)"
   ]
  },
  {
   "cell_type": "code",
   "execution_count": 54,
   "id": "578be92b",
   "metadata": {},
   "outputs": [
    {
     "name": "stdout",
     "output_type": "stream",
     "text": [
      "the area is= 28.26\n"
     ]
    }
   ],
   "source": [
    "def radius(radius):\n",
    "  print(\"the area is=\",(3.14*radius**2))#هنا مش عاوزه تشتغل \n",
    "radius(3)"
   ]
  },
  {
   "cell_type": "code",
   "execution_count": 56,
   "id": "20b71a79",
   "metadata": {},
   "outputs": [
    {
     "name": "stdout",
     "output_type": "stream",
     "text": [
      "a= [1, 2, 3, 4, 5]\n",
      "array1= [1 2 3 4 5]\n"
     ]
    }
   ],
   "source": [
    "import numpy as np\n",
    "a=[1,2,3,4,5]\n",
    "print('a=',a)#هنا لسته عاديه \n",
    "array1=np.array(a)\n",
    "print('array1=',array1)#هنا عملتها كانها array هنا1"
   ]
  },
  {
   "cell_type": "code",
   "execution_count": 2,
   "id": "e71b5a34",
   "metadata": {},
   "outputs": [
    {
     "name": "stdout",
     "output_type": "stream",
     "text": [
      "[[1 2 3]\n",
      " [4 5 6]\n",
      " [7 8 9]]\n"
     ]
    }
   ],
   "source": [
    "import numpy as np\n",
    "u=[[1,2,3] , [4,5,6],[7,8,9]]\n",
    "u1=np.array(u)#هنا عملتها arrayبس 3\n",
    "print(u1)\n"
   ]
  },
  {
   "cell_type": "code",
   "execution_count": 3,
   "id": "6181999e",
   "metadata": {},
   "outputs": [
    {
     "name": "stdout",
     "output_type": "stream",
     "text": [
      "[[1 2 3]\n",
      " [4 5 6]\n",
      " [7 8 9]]\n",
      "(3, 3)\n"
     ]
    }
   ],
   "source": [
    "w=[[1,2,3] ,[4,5,6] ,[7,8,9]]\n",
    "w1=np.array(w)\n",
    "print(w1)\n",
    "print(w1.shape)#shape هنا بتعمل بتشوف عندك كام صف ف كام عمود"
   ]
  },
  {
   "cell_type": "code",
   "execution_count": 4,
   "id": "bb1e3110",
   "metadata": {},
   "outputs": [
    {
     "name": "stdout",
     "output_type": "stream",
     "text": [
      "2\n",
      "()\n"
     ]
    }
   ],
   "source": [
    "a=2\n",
    "a1=np.array(a)\n",
    "print(a1)\n",
    "print(a1.shape)#هنا عملت shape لرقم بس هيطلع كورس فاضي\n",
    "#هنا حاجه اسمهاno D"
   ]
  },
  {
   "cell_type": "code",
   "execution_count": 5,
   "id": "a958e30c",
   "metadata": {},
   "outputs": [
    {
     "name": "stdout",
     "output_type": "stream",
     "text": [
      "1 3\n",
      "1 3\n"
     ]
    }
   ],
   "source": [
    "R=[1,2,3,4,5,6]\n",
    "R1=np.array(R)\n",
    "print(R1[0] ,R1[2])#هنا index ف numpy array \n",
    "print(R[0], R[2])# هنا index ف lists\n",
    "#معني الكلام ان index في الاتنين واحد مفيش اختلاف"
   ]
  },
  {
   "cell_type": "code",
   "execution_count": 61,
   "id": "e51442d1",
   "metadata": {},
   "outputs": [
    {
     "name": "stdout",
     "output_type": "stream",
     "text": [
      "<class 'numpy.float64'>\n"
     ]
    }
   ],
   "source": [
    "r1=np.array([0.5,8,0.1,6,4,3,2])\n",
    "print(type(r1[3]))\n",
    "#هنا الخلاصه ان nump بتجعل كل القيم الا ف المصفوفه نفس النوع لو فيه عنصر عشري بتحول القيم كلها الي ارقام عشريه\n"
   ]
  },
  {
   "cell_type": "code",
   "execution_count": 62,
   "id": "5eedebb5",
   "metadata": {},
   "outputs": [
    {
     "data": {
      "text/plain": [
       "dtype('int64')"
      ]
     },
     "execution_count": 62,
     "metadata": {},
     "output_type": "execute_result"
    }
   ],
   "source": [
    "a=np.array([1,3,4,6,8,4])\n",
    "a.dtype#dtype الفائده هنا بتشوف نوع المصفوفه كلها \n"
   ]
  },
  {
   "cell_type": "code",
   "execution_count": 63,
   "id": "977c78aa",
   "metadata": {},
   "outputs": [
    {
     "data": {
      "text/plain": [
       "dtype('float64')"
      ]
     },
     "execution_count": 63,
     "metadata": {},
     "output_type": "execute_result"
    }
   ],
   "source": [
    "a=np.array([1,0.2,1,3,5,6])\n",
    "a.dtype#بس لو المصفوفه فيها ارقام عشريه هيطلع كله ارقام عشريه"
   ]
  },
  {
   "cell_type": "code",
   "execution_count": 64,
   "id": "717f3be0",
   "metadata": {},
   "outputs": [
    {
     "data": {
      "text/plain": [
       "dtype('<U9')"
      ]
     },
     "execution_count": 64,
     "metadata": {},
     "output_type": "execute_result"
    }
   ],
   "source": [
    "s=np.array(['E','W','A','123456789'])\n",
    "s.dtype #output عندي u9 لان عندي اعلي اسم 9حروف "
   ]
  },
  {
   "cell_type": "code",
   "execution_count": 65,
   "id": "9f95a5b5",
   "metadata": {},
   "outputs": [
    {
     "data": {
      "text/plain": [
       "[3, 1, 56]"
      ]
     },
     "execution_count": 65,
     "metadata": {},
     "output_type": "execute_result"
    }
   ],
   "source": [
    "a=[1,3,4,56,67]\n",
    "[a[1],a[0],a[3]]#هنا بنعمل كده بدل index ده ف numpy"
   ]
  },
  {
   "cell_type": "code",
   "execution_count": 66,
   "id": "e47541ec",
   "metadata": {},
   "outputs": [
    {
     "data": {
      "text/plain": [
       "array([[1, 2],\n",
       "       [4, 5]])"
      ]
     },
     "execution_count": 66,
     "metadata": {},
     "output_type": "execute_result"
    }
   ],
   "source": [
    "a=np.array([[1,2,3],#عاوز 1و2و4و5\n",
    "   [4,5,6],\n",
    "   [7,8,9]])\n",
    "a[0:2,:2]#هنا بقا nump array افضل من index ف لسته "
   ]
  },
  {
   "cell_type": "code",
   "execution_count": null,
   "id": "b8ae68e7",
   "metadata": {},
   "outputs": [
    {
     "name": "stdout",
     "output_type": "stream",
     "text": [
      "[[   2    3    4]\n",
      " [   7   43   21]\n",
      " [2234  567  876]\n",
      " [ 221   32 5443]]\n"
     ]
    }
   ],
   "source": [
    "a=np.array([[2,3,4],\n",
    "            [7,43,21],\n",
    "            [2234,567,876],\n",
    "            [221,32,5443]])#المطلوب طباعه 3و4و43و21و567و876و32و5443\n",
    "print(a)\n",
    "\n"
   ]
  },
  {
   "cell_type": "code",
   "execution_count": 70,
   "id": "08dfdc29",
   "metadata": {},
   "outputs": [
    {
     "name": "stdout",
     "output_type": "stream",
     "text": [
      "[[ 2.   -4.  ]\n",
      " [ 2.5   0.25]]\n",
      "[[-4. ]\n",
      " [ 5.5]]\n"
     ]
    }
   ],
   "source": [
    "import numpy as np\n",
    "a=np.array([[2,-4],[2.5,0.25]])\n",
    "print(a)\n",
    "b=np.array([2,2])\n",
    "c=np.dot(a,b).reshape(2,1)\n",
    "print(c)\n"
   ]
  },
  {
   "cell_type": "code",
   "execution_count": 69,
   "id": "61611d26",
   "metadata": {},
   "outputs": [
    {
     "name": "stdout",
     "output_type": "stream",
     "text": [
      "2\n",
      "4\n",
      "ezzmohamedaliafify\n",
      "\n",
      "ezz \n",
      "mohamed \n",
      "ali\n",
      "afify\n",
      "ezz\n",
      " mohamed\n",
      " ali \n",
      " afify\n",
      "ezzmohamed\n",
      "ezz mohamed\n",
      "ezz mohamed\n",
      "ezz mohamed\n",
      "helloibrahim\n",
      "hello ibrahim\n",
      "hello ibrahim\n",
      "hello ibrahim\n",
      "hello ibrahim\n",
      "helloezz\n",
      "hello ezz\n"
     ]
    }
   ],
   "source": [
    "print (2)\n",
    "print (2+2)\n",
    "print(\"ezzmohamedaliafify\")\n",
    "print() #هنا هيطبعلي السطر فاضي بس فيه سطر موجود\n",
    "print(\"ezz \\nmohamed \\nali\\nafify\") #هنا مش هيسيب مسافه علشان انا حاطط الكلمه جنب \\nع طول\n",
    "print(\"ezz\\n mohamed\\n ali \\n afify\") #هنا هيسيب مسافه علشان انا سايب مسافه بين الكلمه وبين\\n\n",
    "print(\"ezz\"+\"mohamed\") #هنا هيطبعلي ezzmohamed جنب بعض مفيش بينهم فاصل نحل المشكله ده ازاي \n",
    "#عندي 3طرق احل بيهم المشكله ده \n",
    "print(\"ezz \"+\"mohamed\") #اول طريقه \n",
    "print(\"ezz\"+\" \"+\"mohamed\") #تاني طريقه\n",
    "print(\"ezz\"+\" mohamed\") #تالت طريقه \n",
    "#عندي حاجه كمان عاوز اتكلم فيها مينفعشي اسيب مسافه قبل اي امر زي print\n",
    "\n",
    "#او كويز ليه EXl\n",
    "#صلح الاخطاء الا ف الكود ده\n",
    "#print(\"hello\"+ \" \"ibrahim\")\n",
    "# print(\"hello \" + \"ibrahim\")\n",
    "#print(hello\" + \" ibrahim\")\n",
    "#print(\"hello\" + \" \" \"ibrahim\"\n",
    "#prin(\"hello\" + \" \" \"ibrahim\")\n",
    "# الحل بتاعي\n",
    "print(\"hello\"+\"ibrahim\")\n",
    "print(\"hello \"+\"ibrahim\")\n",
    "print(\"hello\"+\" ibrahim\")\n",
    "print(\"hello\"+\" \"+\"ibrahim\")\n",
    "print(\"hello\"+\" \"+\"ibrahim\")\n",
    "#الحل صح الحمد لله ميه ميه\n",
    "input(\"what is your name? \")#هنا بنعمل امر input بنخلي الامر هوا الا يقولي دخل الاجابه \n",
    "#الاجابه هنا بتيقي جنب السؤال \n",
    "#لو عاوزين الاجتبه تحت السؤال مش جنبه اعمل اي نضيف امر \\n كده يعني \n",
    "input(\"what is your name? \\n\")\n",
    "#طب دلوقتي المعلومات الا انا عملتها ده راحت فين اتحفظت ولا لا عاوزين نشوف \n",
    "input(\"what is your name?\")\n",
    "print(\"hello\"+ input(\"what is your name?\"))\n",
    "#كده انا عرفت انه سجل المعلومات ده عنده كده تمام اقوي علشان لو حبيت اعمل سؤال علي المعلومات ده بعد كده\n",
    "#عارفين احنا لو عاوزين مسافه بين كلمة hello والمدخل الا هدخله نعمل اي تعالي نجرب \n",
    "input(\"what is your name?\")\n",
    "print(\"hello\" +\" \"+ input(\"what is your name?\"))\n",
    "#كده عمل معانا مسافه بين الكلمتين"
   ]
  },
  {
   "cell_type": "code",
   "execution_count": 71,
   "id": "8878241d",
   "metadata": {},
   "outputs": [
    {
     "name": "stdout",
     "output_type": "stream",
     "text": [
      "========================================\n",
      "['Barcelona']\n",
      "========================================\n",
      "🏆✨ Congratulations to Barcelona ⚽🎉🎉🎉🎉💙💙💙💙💙 ✨🏆\n",
      "========================================\n"
     ]
    }
   ],
   "source": [
    "teams=['Real Madrid','Inter Milan','Bayern Munich','Paris Saint-Germain','Arsenal','Borussia Dortmund','Aston Villa'] #⚽⚽⚽\n",
    "teams.insert(0,'Barcelona')\n",
    "#print(teams)\n",
    "#دور ربع النهائي 💥💥💥💥💥💥💥💥\n",
    "# First Match (Real Madrid *** Arsenal) \n",
    "teams.pop(5)\n",
    "#print(teams)\n",
    "# Second Match (Paris Saint-Germain *** Aston Villa)\n",
    "teams.remove('Aston Villa')\n",
    "#print(teams)\n",
    "# Third Match (Bayern Munich *** Inter Milan)\n",
    "teams.pop(2)\n",
    "#print(teams)\n",
    "# Fourth Match (Barcelona *** Borussia Dortmund)\n",
    "teams.remove('Borussia Dortmund')\n",
    "#print(teams)\n",
    " #🔥🔥🔥🔥🔥🔥🔥دور نصف النهائي\n",
    "# First Match (Real Madrid *** Paris Saint-Germain)💥💥💥💥💥💥💥\n",
    "teams.pop(3)\n",
    "#print(teams)\n",
    "# Second Match (Barcelona *** Bayern Munich)💥💥💥💥💥💥💥\n",
    "teams.pop(2)\n",
    "#print(teams)\n",
    "# Final Match \n",
    "#[ Barcelona ********** Real Madrid ]\n",
    "print( \"=\"*40)\n",
    "teams.pop(1)\n",
    "print(teams)\n",
    "print( \"=\"*40)\n",
    "print(\"🏆✨ Congratulations to Barcelona ⚽🎉🎉🎉🎉💙💙💙💙💙 ✨🏆\")\n",
    "print(\"=\"*40 )"
   ]
  },
  {
   "cell_type": "markdown",
   "id": "ea452e11",
   "metadata": {},
   "source": [
    "pip\\ conda \n",
    "is a package manger for python to install"
   ]
  },
  {
   "cell_type": "markdown",
   "id": "cf306b02",
   "metadata": {},
   "source": [
    "shorthand if هنا ifجوه الامر"
   ]
  },
  {
   "cell_type": "markdown",
   "id": "e28ca25f",
   "metadata": {},
   "source": [
    "prime number \n",
    "عدد يقبل القسمه ع نفسه\n",
    "عدد يقبل القسمه علي 1 \n",
    "دول كده  عدد prime\n",
    "\n",
    "not prime number\n",
    "عكس الكلام الا فوق "
   ]
  },
  {
   "cell_type": "markdown",
   "id": "3992a601",
   "metadata": {},
   "source": [
    "دالة Recursion\n",
    "هي دالة بتنده على نفسها جوا الكود بتاعها.\n",
    "يعني وانت شغال جوا الدالة، بتستدعي نفس الدالة تاني"
   ]
  },
  {
   "cell_type": "code",
   "execution_count": 46,
   "id": "4025d623",
   "metadata": {},
   "outputs": [
    {
     "name": "stdout",
     "output_type": "stream",
     "text": [
      "prime\n"
     ]
    }
   ],
   "source": [
    "#Write a Python function that takes a number as a parameter and check whether the number is prime or not\n",
    "#with recursion\n",
    "x=int(input('num='))\n",
    "def prime(x):\n",
    "    if x<=1:\n",
    "        print ('prime')\n",
    "    elif x % 2 == 0 :\n",
    "        print('not prime')\n",
    "    else:\n",
    "        print('prime')\n",
    "prime(x) "
   ]
  },
  {
   "cell_type": "markdown",
   "id": "3c9d282d",
   "metadata": {},
   "source": [
    "دالة out recursion\n",
    "هي دالة ما بتناديش نفسها، يعني بتنفس شغلها مرة واحدة\n"
   ]
  },
  {
   "cell_type": "code",
   "execution_count": null,
   "id": "1e96c12c",
   "metadata": {},
   "outputs": [
    {
     "name": "stdout",
     "output_type": "stream",
     "text": [
      "The number is prime\n"
     ]
    }
   ],
   "source": [
    "#Write a Python function that takes a number as a parameter and check whether the number is prime or not\n",
    "#with out recursion\n",
    "number = int(input(\"Enter a number: \"))\n",
    "if is_prime (number): \n",
    "    print(\"The number is prime\")\n",
    "else:\n",
    "    print(\"The number is not prime\")\n",
    "\n"
   ]
  },
  {
   "cell_type": "markdown",
   "id": "2844954e",
   "metadata": {},
   "source": [
    "دالة Recursion\n",
    "هي دالة بتنده على نفسها جوا الكود بتاعها.\n",
    "يعني وانت شغال جوا الدالة، بتستدعي نفس الدالة تاني"
   ]
  },
  {
   "cell_type": "code",
   "execution_count": null,
   "id": "66857cc4",
   "metadata": {},
   "outputs": [
    {
     "data": {
      "text/plain": [
       "120"
      ]
     },
     "execution_count": 81,
     "metadata": {},
     "output_type": "execute_result"
    }
   ],
   "source": [
    "#Write a Python function to calculate the factorial of a number (a non-negative integer).\n",
    "#The function accepts the number as an argument\n",
    "#using recursion\n",
    "n=int(input('number'))\n",
    "def factorial_recursive(n):\n",
    "    if n <=0:\n",
    "        return 1\n",
    "    else:\n",
    "        return n * factorial_recursive(n - 1)\n",
    "factorial_recursive(n)"
   ]
  },
  {
   "cell_type": "markdown",
   "id": "4e5cf6aa",
   "metadata": {},
   "source": [
    "دالة out recursion\n",
    "هي دالة ما بتناديش نفسها، يعني بتنفس شغلها مرة واحدة"
   ]
  },
  {
   "cell_type": "code",
   "execution_count": 124,
   "id": "1b578bf5",
   "metadata": {},
   "outputs": [
    {
     "data": {
      "text/plain": [
       "120"
      ]
     },
     "execution_count": 124,
     "metadata": {},
     "output_type": "execute_result"
    }
   ],
   "source": [
    "#Write a Python function to calculate the factorial of a number (a non-negative integer).\n",
    "#The function accepts the number as an argument\n",
    "#using out recursion\n",
    "n=int(input('number'))\n",
    "def factorial_loop(n):\n",
    "    if n<=0:\n",
    "     return'number is negative'\n",
    "    result= 1\n",
    "    for i in range(2,n+1):\n",
    "       result*=i\n",
    "    return result \n",
    "factorial_loop(n)"
   ]
  },
  {
   "cell_type": "code",
   "execution_count": null,
   "id": "b70636d0",
   "metadata": {},
   "outputs": [],
   "source": []
  },
  {
   "cell_type": "code",
   "execution_count": null,
   "id": "6a4885ef",
   "metadata": {},
   "outputs": [],
   "source": [
    "import RPi.GPIO as GPIO#هنا جبت المكتبه \n",
    "GPIO.setmode(GPIO.BCM) \n",
    "motor1_RPWM = 17\n",
    "motor1_LPWM = 18\n",
    "motor2_RPWM = 22\n",
    "motor2_LPWM = 23\n",
    "GPIO.setup(motor1_RPWM, GPIO.OUT)\n",
    "GPIO.setup(motor1_LPWM, GPIO.OUT)\n",
    "GPIO.setup(motor2_RPWM, GPIO.OUT)\n",
    "GPIO.setup(motor2_LPWM, GPIO.OUT)\n",
    "#دو الا مسولين عن البنات ترقيم البنات للمواتير \n",
    "def forward():\n",
    "    GPIO.output(motor1_RPWM, GPIO.HIGH)\n",
    "    GPIO.output(motor1_LPWM, GPIO.LOW)\n",
    "    GPIO.output(motor2_RPWM, GPIO.HIGH)\n",
    "    GPIO.output(motor2_LPWM, GPIO.LOW)\n",
    "\n",
    "def backward():\n",
    "    GPIO.output(motor1_RPWM, GPIO.LOW)\n",
    "    GPIO.output(motor1_LPWM, GPIO.HIGH)\n",
    "    GPIO.output(motor2_RPWM, GPIO.LOW)\n",
    "    GPIO.output(motor2_LPWM, GPIO.HIGH)\n",
    "\n",
    "def turn_right():\n",
    "    GPIO.output(motor1_RPWM, GPIO.LOW)\n",
    "    GPIO.output(motor1_LPWM, GPIO.HIGH)\n",
    "    GPIO.output(motor2_RPWM, GPIO.HIGH)\n",
    "    GPIO.output(motor2_LPWM, GPIO.LOW)\n",
    "\n",
    "def turn_left():\n",
    "    GPIO.output(motor1_RPWM, GPIO.HIGH)\n",
    "    GPIO.output(motor1_LPWM, GPIO.LOW)\n",
    "    GPIO.output(motor2_RPWM, GPIO.LOW)\n",
    "    GPIO.output(motor2_LPWM, GPIO.HIGH)\n",
    "\n",
    "def stop():\n",
    "    GPIO.output(motor1_RPWM, GPIO.LOW)\n",
    "    GPIO.output(motor1_LPWM, GPIO.LOW)\n",
    "    GPIO.output(motor2_RPWM, GPIO.LOW)\n",
    "    GPIO.output(motor2_LPWM, GPIO.LOW)\n",
    "\n",
    "\n",
    "\n",
    "\n",
    "\n",
    "\n",
    "\n"
   ]
  },
  {
   "cell_type": "code",
   "execution_count": null,
   "id": "e2a80fd9",
   "metadata": {},
   "outputs": [],
   "source": []
  },
  {
   "cell_type": "code",
   "execution_count": null,
   "id": "ed26ef16",
   "metadata": {},
   "outputs": [],
   "source": []
  },
  {
   "cell_type": "code",
   "execution_count": null,
   "id": "0983d8dd",
   "metadata": {},
   "outputs": [],
   "source": []
  },
  {
   "cell_type": "code",
   "execution_count": null,
   "id": "5b94d02a",
   "metadata": {},
   "outputs": [],
   "source": []
  },
  {
   "cell_type": "code",
   "execution_count": null,
   "id": "8a4a5909",
   "metadata": {},
   "outputs": [],
   "source": []
  },
  {
   "cell_type": "code",
   "execution_count": null,
   "id": "b98d19a1",
   "metadata": {},
   "outputs": [],
   "source": []
  },
  {
   "cell_type": "code",
   "execution_count": null,
   "id": "74bdfd29",
   "metadata": {},
   "outputs": [],
   "source": []
  },
  {
   "cell_type": "code",
   "execution_count": null,
   "id": "7fb21a1c",
   "metadata": {},
   "outputs": [],
   "source": []
  }
 ],
 "metadata": {
  "kernelspec": {
   "display_name": "Python 3",
   "language": "python",
   "name": "python3"
  },
  "language_info": {
   "codemirror_mode": {
    "name": "ipython",
    "version": 3
   },
   "file_extension": ".py",
   "mimetype": "text/x-python",
   "name": "python",
   "nbconvert_exporter": "python",
   "pygments_lexer": "ipython3",
   "version": "3.13.0"
  }
 },
 "nbformat": 4,
 "nbformat_minor": 5
}
